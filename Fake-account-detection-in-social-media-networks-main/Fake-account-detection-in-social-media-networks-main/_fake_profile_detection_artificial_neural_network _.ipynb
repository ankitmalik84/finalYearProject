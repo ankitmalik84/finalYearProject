{
  "cells": [
    {
      "cell_type": "markdown",
      "metadata": {
        "id": "jOzK-ukiiZSY"
      },
      "source": [
        ":# Part 1: Detection of Fake / Real Profiles"
      ]
    },
    {
      "cell_type": "markdown",
      "metadata": {
        "id": "fFxGwOWbidBm"
      },
      "source": [
        "# Import libraries"
      ]
    },
    {
      "cell_type": "code",
      "execution_count": 1,
      "metadata": {
        "colab": {
          "base_uri": "https://localhost:8080/"
        },
        "id": "uZe7hoZQUINQ",
        "outputId": "764e087e-2bb2-4b23-cb22-b5db7110e426"
      },
      "outputs": [
        {
          "name": "stdout",
          "output_type": "stream",
          "text": [
            "Collecting pandas-profilingNote: you may need to restart the kernel to use updated packages.\n",
            "\n",
            "  Downloading pandas_profiling-3.2.0-py2.py3-none-any.whl.metadata (21 kB)\n",
            "Collecting joblib~=1.1.0 (from pandas-profiling)\n",
            "  Downloading joblib-1.1.1-py2.py3-none-any.whl.metadata (5.2 kB)\n",
            "Requirement already satisfied: scipy>=1.4.1 in c:\\programdata\\anaconda3\\lib\\site-packages (from pandas-profiling) (1.11.4)\n",
            "Requirement already satisfied: pandas!=1.0.0,!=1.0.1,!=1.0.2,!=1.1.0,>=0.25.3 in c:\\programdata\\anaconda3\\lib\\site-packages (from pandas-profiling) (2.1.4)\n",
            "Requirement already satisfied: matplotlib>=3.2.0 in c:\\programdata\\anaconda3\\lib\\site-packages (from pandas-profiling) (3.8.0)\n",
            "Requirement already satisfied: pydantic>=1.8.1 in c:\\programdata\\anaconda3\\lib\\site-packages (from pandas-profiling) (1.10.12)\n",
            "Requirement already satisfied: PyYAML>=5.0.0 in c:\\programdata\\anaconda3\\lib\\site-packages (from pandas-profiling) (6.0.1)\n",
            "Requirement already satisfied: jinja2>=2.11.1 in c:\\programdata\\anaconda3\\lib\\site-packages (from pandas-profiling) (3.1.3)\n",
            "Requirement already satisfied: markupsafe~=2.1.1 in c:\\programdata\\anaconda3\\lib\\site-packages (from pandas-profiling) (2.1.3)\n",
            "Collecting visions==0.7.4 (from visions[type_image_path]==0.7.4->pandas-profiling)\n",
            "  Downloading visions-0.7.4-py3-none-any.whl.metadata (5.9 kB)\n",
            "Requirement already satisfied: numpy>=1.16.0 in c:\\programdata\\anaconda3\\lib\\site-packages (from pandas-profiling) (1.26.4)\n",
            "Collecting htmlmin>=0.1.12 (from pandas-profiling)\n",
            "  Downloading htmlmin-0.1.12.tar.gz (19 kB)\n",
            "  Preparing metadata (setup.py): started\n",
            "  Preparing metadata (setup.py): finished with status 'done'\n",
            "Collecting missingno>=0.4.2 (from pandas-profiling)\n",
            "  Downloading missingno-0.5.2-py3-none-any.whl.metadata (639 bytes)\n",
            "Collecting phik>=0.11.1 (from pandas-profiling)\n",
            "  Downloading phik-0.12.4-cp311-cp311-win_amd64.whl.metadata (5.6 kB)\n",
            "Collecting tangled-up-in-unicode==0.2.0 (from pandas-profiling)\n",
            "  Downloading tangled_up_in_unicode-0.2.0-py3-none-any.whl.metadata (4.8 kB)\n",
            "Requirement already satisfied: requests>=2.24.0 in c:\\programdata\\anaconda3\\lib\\site-packages (from pandas-profiling) (2.31.0)\n",
            "Requirement already satisfied: tqdm>=4.48.2 in c:\\programdata\\anaconda3\\lib\\site-packages (from pandas-profiling) (4.65.0)\n",
            "Requirement already satisfied: seaborn>=0.10.1 in c:\\programdata\\anaconda3\\lib\\site-packages (from pandas-profiling) (0.12.2)\n",
            "Collecting multimethod>=1.4 (from pandas-profiling)\n",
            "  Downloading multimethod-1.12-py3-none-any.whl.metadata (9.6 kB)\n",
            "Requirement already satisfied: attrs>=19.3.0 in c:\\programdata\\anaconda3\\lib\\site-packages (from visions==0.7.4->visions[type_image_path]==0.7.4->pandas-profiling) (23.1.0)\n",
            "Requirement already satisfied: networkx>=2.4 in c:\\programdata\\anaconda3\\lib\\site-packages (from visions==0.7.4->visions[type_image_path]==0.7.4->pandas-profiling) (3.1)\n",
            "Collecting imagehash (from visions[type_image_path]==0.7.4->pandas-profiling)\n",
            "  Downloading ImageHash-4.3.1-py2.py3-none-any.whl.metadata (8.0 kB)\n",
            "Requirement already satisfied: Pillow in c:\\programdata\\anaconda3\\lib\\site-packages (from visions[type_image_path]==0.7.4->pandas-profiling) (10.2.0)\n",
            "Requirement already satisfied: contourpy>=1.0.1 in c:\\programdata\\anaconda3\\lib\\site-packages (from matplotlib>=3.2.0->pandas-profiling) (1.2.0)\n",
            "Requirement already satisfied: cycler>=0.10 in c:\\programdata\\anaconda3\\lib\\site-packages (from matplotlib>=3.2.0->pandas-profiling) (0.11.0)\n",
            "Requirement already satisfied: fonttools>=4.22.0 in c:\\programdata\\anaconda3\\lib\\site-packages (from matplotlib>=3.2.0->pandas-profiling) (4.25.0)\n",
            "Requirement already satisfied: kiwisolver>=1.0.1 in c:\\programdata\\anaconda3\\lib\\site-packages (from matplotlib>=3.2.0->pandas-profiling) (1.4.4)\n",
            "Requirement already satisfied: packaging>=20.0 in c:\\programdata\\anaconda3\\lib\\site-packages (from matplotlib>=3.2.0->pandas-profiling) (23.1)\n",
            "Requirement already satisfied: pyparsing>=2.3.1 in c:\\programdata\\anaconda3\\lib\\site-packages (from matplotlib>=3.2.0->pandas-profiling) (3.0.9)\n",
            "Requirement already satisfied: python-dateutil>=2.7 in c:\\programdata\\anaconda3\\lib\\site-packages (from matplotlib>=3.2.0->pandas-profiling) (2.8.2)\n",
            "Requirement already satisfied: pytz>=2020.1 in c:\\programdata\\anaconda3\\lib\\site-packages (from pandas!=1.0.0,!=1.0.1,!=1.0.2,!=1.1.0,>=0.25.3->pandas-profiling) (2023.3.post1)\n",
            "Requirement already satisfied: tzdata>=2022.1 in c:\\programdata\\anaconda3\\lib\\site-packages (from pandas!=1.0.0,!=1.0.1,!=1.0.2,!=1.1.0,>=0.25.3->pandas-profiling) (2023.3)\n",
            "Requirement already satisfied: typing-extensions>=4.2.0 in c:\\programdata\\anaconda3\\lib\\site-packages (from pydantic>=1.8.1->pandas-profiling) (4.9.0)\n",
            "Requirement already satisfied: charset-normalizer<4,>=2 in c:\\programdata\\anaconda3\\lib\\site-packages (from requests>=2.24.0->pandas-profiling) (2.0.4)\n",
            "Requirement already satisfied: idna<4,>=2.5 in c:\\programdata\\anaconda3\\lib\\site-packages (from requests>=2.24.0->pandas-profiling) (3.4)\n",
            "Requirement already satisfied: urllib3<3,>=1.21.1 in c:\\programdata\\anaconda3\\lib\\site-packages (from requests>=2.24.0->pandas-profiling) (2.0.7)\n",
            "Requirement already satisfied: certifi>=2017.4.17 in c:\\programdata\\anaconda3\\lib\\site-packages (from requests>=2.24.0->pandas-profiling) (2024.2.2)\n",
            "Requirement already satisfied: colorama in c:\\programdata\\anaconda3\\lib\\site-packages (from tqdm>=4.48.2->pandas-profiling) (0.4.6)\n",
            "Requirement already satisfied: six>=1.5 in c:\\programdata\\anaconda3\\lib\\site-packages (from python-dateutil>=2.7->matplotlib>=3.2.0->pandas-profiling) (1.16.0)\n",
            "Requirement already satisfied: PyWavelets in c:\\programdata\\anaconda3\\lib\\site-packages (from imagehash->visions[type_image_path]==0.7.4->pandas-profiling) (1.5.0)\n",
            "Downloading pandas_profiling-3.2.0-py2.py3-none-any.whl (262 kB)\n",
            "   ---------------------------------------- 0.0/262.6 kB ? eta -:--:--\n",
            "   ---------------------------------------- 262.6/262.6 kB 8.1 MB/s eta 0:00:00\n",
            "Downloading tangled_up_in_unicode-0.2.0-py3-none-any.whl (4.7 MB)\n",
            "   ---------------------------------------- 0.0/4.7 MB ? eta -:--:--\n",
            "   ---- ----------------------------------- 0.5/4.7 MB 10.7 MB/s eta 0:00:01\n",
            "   -------- ------------------------------- 1.1/4.7 MB 11.1 MB/s eta 0:00:01\n",
            "   ------------- -------------------------- 1.6/4.7 MB 11.4 MB/s eta 0:00:01\n",
            "   ----------------- ---------------------- 2.1/4.7 MB 12.2 MB/s eta 0:00:01\n",
            "   -------------------- ------------------- 2.5/4.7 MB 11.2 MB/s eta 0:00:01\n",
            "   ---------------------- ----------------- 2.7/4.7 MB 10.2 MB/s eta 0:00:01\n",
            "   ------------------------ --------------- 2.9/4.7 MB 9.3 MB/s eta 0:00:01\n",
            "   -------------------------- ------------- 3.1/4.7 MB 8.7 MB/s eta 0:00:01\n",
            "   --------------------------- ------------ 3.3/4.7 MB 8.0 MB/s eta 0:00:01\n",
            "   ---------------------------- ----------- 3.4/4.7 MB 7.5 MB/s eta 0:00:01\n",
            "   ------------------------------ --------- 3.6/4.7 MB 7.1 MB/s eta 0:00:01\n",
            "   ------------------------------- -------- 3.7/4.7 MB 6.7 MB/s eta 0:00:01\n",
            "   ------------------------------- -------- 3.7/4.7 MB 6.3 MB/s eta 0:00:01\n",
            "   -------------------------------- ------- 3.9/4.7 MB 6.0 MB/s eta 0:00:01\n",
            "   ---------------------------------- ----- 4.1/4.7 MB 5.9 MB/s eta 0:00:01\n",
            "   ------------------------------------ --- 4.3/4.7 MB 5.8 MB/s eta 0:00:01\n",
            "   -------------------------------------- - 4.6/4.7 MB 5.9 MB/s eta 0:00:01\n",
            "   ---------------------------------------- 4.7/4.7 MB 5.8 MB/s eta 0:00:00\n",
            "Downloading visions-0.7.4-py3-none-any.whl (102 kB)\n",
            "   ---------------------------------------- 0.0/102.4 kB ? eta -:--:--\n",
            "   ---------------------------------------- 102.4/102.4 kB 5.8 MB/s eta 0:00:00\n",
            "Downloading joblib-1.1.1-py2.py3-none-any.whl (309 kB)\n",
            "   ---------------------------------------- 0.0/309.8 kB ? eta -:--:--\n",
            "   ---------------------------------------- 309.8/309.8 kB 9.7 MB/s eta 0:00:00\n",
            "Downloading missingno-0.5.2-py3-none-any.whl (8.7 kB)\n",
            "Downloading multimethod-1.12-py3-none-any.whl (10 kB)\n",
            "Downloading phik-0.12.4-cp311-cp311-win_amd64.whl (667 kB)\n",
            "   ---------------------------------------- 0.0/667.1 kB ? eta -:--:--\n",
            "   -------------------- ------------------- 337.9/667.1 kB 7.0 MB/s eta 0:00:01\n",
            "   ---------------------------------------- 667.1/667.1 kB 8.4 MB/s eta 0:00:00\n",
            "Downloading ImageHash-4.3.1-py2.py3-none-any.whl (296 kB)\n",
            "   ---------------------------------------- 0.0/296.5 kB ? eta -:--:--\n",
            "   ---------------------------------------- 296.5/296.5 kB 9.2 MB/s eta 0:00:00\n",
            "Building wheels for collected packages: htmlmin\n",
            "  Building wheel for htmlmin (setup.py): started\n",
            "  Building wheel for htmlmin (setup.py): finished with status 'done'\n",
            "  Created wheel for htmlmin: filename=htmlmin-0.1.12-py3-none-any.whl size=27091 sha256=0772e2310b36f0cf0ef9549d383fc5f6176de6b933ad4a2355774bfd9154f9a3\n",
            "  Stored in directory: c:\\users\\ankit\\appdata\\local\\pip\\cache\\wheels\\8d\\55\\1a\\19cd535375ed1ede0c996405ebffe34b196d78e2d9545723a2\n",
            "Successfully built htmlmin\n",
            "Installing collected packages: htmlmin, tangled-up-in-unicode, multimethod, joblib, imagehash, visions, phik, missingno, pandas-profiling\n",
            "  Attempting uninstall: joblib\n",
            "    Found existing installation: joblib 1.2.0\n",
            "    Uninstalling joblib-1.2.0:\n",
            "      Successfully uninstalled joblib-1.2.0\n",
            "Successfully installed htmlmin-0.1.12 imagehash-4.3.1 joblib-1.1.1 missingno-0.5.2 multimethod-1.12 pandas-profiling-3.2.0 phik-0.12.4 tangled-up-in-unicode-0.2.0 visions-0.7.4\n"
          ]
        }
      ],
      "source": [
        "pip install pandas-profiling"
      ]
    },
    {
      "cell_type": "code",
      "execution_count": 2,
      "metadata": {
        "colab": {
          "base_uri": "https://localhost:8080/"
        },
        "id": "ZoQBMiu9_Y7h",
        "outputId": "b4a390f2-626d-446f-95e9-f7bc533fb7b2"
      },
      "outputs": [
        {
          "name": "stdout",
          "output_type": "stream",
          "text": [
            "Requirement already satisfied: pandas_profiling in c:\\programdata\\anaconda3\\lib\\site-packages (3.2.0)\n",
            "Requirement already satisfied: joblib~=1.1.0 in c:\\programdata\\anaconda3\\lib\\site-packages (from pandas_profiling) (1.1.1)\n",
            "Requirement already satisfied: scipy>=1.4.1 in c:\\programdata\\anaconda3\\lib\\site-packages (from pandas_profiling) (1.11.4)\n",
            "Requirement already satisfied: pandas!=1.0.0,!=1.0.1,!=1.0.2,!=1.1.0,>=0.25.3 in c:\\programdata\\anaconda3\\lib\\site-packages (from pandas_profiling) (2.1.4)\n",
            "Requirement already satisfied: matplotlib>=3.2.0 in c:\\programdata\\anaconda3\\lib\\site-packages (from pandas_profiling) (3.8.0)\n",
            "Requirement already satisfied: pydantic>=1.8.1 in c:\\programdata\\anaconda3\\lib\\site-packages (from pandas_profiling) (1.10.12)\n",
            "Requirement already satisfied: PyYAML>=5.0.0 in c:\\programdata\\anaconda3\\lib\\site-packages (from pandas_profiling) (6.0.1)\n",
            "Requirement already satisfied: jinja2>=2.11.1 in c:\\programdata\\anaconda3\\lib\\site-packages (from pandas_profiling) (3.1.3)\n",
            "Requirement already satisfied: markupsafe~=2.1.1 in c:\\programdata\\anaconda3\\lib\\site-packages (from pandas_profiling) (2.1.3)\n",
            "Requirement already satisfied: visions==0.7.4 in c:\\programdata\\anaconda3\\lib\\site-packages (from visions[type_image_path]==0.7.4->pandas_profiling) (0.7.4)\n",
            "Requirement already satisfied: numpy>=1.16.0 in c:\\programdata\\anaconda3\\lib\\site-packages (from pandas_profiling) (1.26.4)\n",
            "Requirement already satisfied: htmlmin>=0.1.12 in c:\\programdata\\anaconda3\\lib\\site-packages (from pandas_profiling) (0.1.12)\n",
            "Requirement already satisfied: missingno>=0.4.2 in c:\\programdata\\anaconda3\\lib\\site-packages (from pandas_profiling) (0.5.2)\n",
            "Requirement already satisfied: phik>=0.11.1 in c:\\programdata\\anaconda3\\lib\\site-packages (from pandas_profiling) (0.12.4)\n",
            "Requirement already satisfied: tangled-up-in-unicode==0.2.0 in c:\\programdata\\anaconda3\\lib\\site-packages (from pandas_profiling) (0.2.0)\n",
            "Requirement already satisfied: requests>=2.24.0 in c:\\programdata\\anaconda3\\lib\\site-packages (from pandas_profiling) (2.31.0)\n",
            "Requirement already satisfied: tqdm>=4.48.2 in c:\\programdata\\anaconda3\\lib\\site-packages (from pandas_profiling) (4.65.0)\n",
            "Requirement already satisfied: seaborn>=0.10.1 in c:\\programdata\\anaconda3\\lib\\site-packages (from pandas_profiling) (0.12.2)\n",
            "Requirement already satisfied: multimethod>=1.4 in c:\\programdata\\anaconda3\\lib\\site-packages (from pandas_profiling) (1.12)\n",
            "Requirement already satisfied: attrs>=19.3.0 in c:\\programdata\\anaconda3\\lib\\site-packages (from visions==0.7.4->visions[type_image_path]==0.7.4->pandas_profiling) (23.1.0)\n",
            "Requirement already satisfied: networkx>=2.4 in c:\\programdata\\anaconda3\\lib\\site-packages (from visions==0.7.4->visions[type_image_path]==0.7.4->pandas_profiling) (3.1)\n",
            "Requirement already satisfied: imagehash in c:\\programdata\\anaconda3\\lib\\site-packages (from visions[type_image_path]==0.7.4->pandas_profiling) (4.3.1)\n",
            "Requirement already satisfied: Pillow in c:\\programdata\\anaconda3\\lib\\site-packages (from visions[type_image_path]==0.7.4->pandas_profiling) (10.2.0)\n",
            "Requirement already satisfied: contourpy>=1.0.1 in c:\\programdata\\anaconda3\\lib\\site-packages (from matplotlib>=3.2.0->pandas_profiling) (1.2.0)\n",
            "Requirement already satisfied: cycler>=0.10 in c:\\programdata\\anaconda3\\lib\\site-packages (from matplotlib>=3.2.0->pandas_profiling) (0.11.0)\n",
            "Requirement already satisfied: fonttools>=4.22.0 in c:\\programdata\\anaconda3\\lib\\site-packages (from matplotlib>=3.2.0->pandas_profiling) (4.25.0)\n",
            "Requirement already satisfied: kiwisolver>=1.0.1 in c:\\programdata\\anaconda3\\lib\\site-packages (from matplotlib>=3.2.0->pandas_profiling) (1.4.4)\n",
            "Requirement already satisfied: packaging>=20.0 in c:\\programdata\\anaconda3\\lib\\site-packages (from matplotlib>=3.2.0->pandas_profiling) (23.1)\n",
            "Requirement already satisfied: pyparsing>=2.3.1 in c:\\programdata\\anaconda3\\lib\\site-packages (from matplotlib>=3.2.0->pandas_profiling) (3.0.9)\n",
            "Requirement already satisfied: python-dateutil>=2.7 in c:\\programdata\\anaconda3\\lib\\site-packages (from matplotlib>=3.2.0->pandas_profiling) (2.8.2)\n",
            "Requirement already satisfied: pytz>=2020.1 in c:\\programdata\\anaconda3\\lib\\site-packages (from pandas!=1.0.0,!=1.0.1,!=1.0.2,!=1.1.0,>=0.25.3->pandas_profiling) (2023.3.post1)\n",
            "Requirement already satisfied: tzdata>=2022.1 in c:\\programdata\\anaconda3\\lib\\site-packages (from pandas!=1.0.0,!=1.0.1,!=1.0.2,!=1.1.0,>=0.25.3->pandas_profiling) (2023.3)\n",
            "Requirement already satisfied: typing-extensions>=4.2.0 in c:\\programdata\\anaconda3\\lib\\site-packages (from pydantic>=1.8.1->pandas_profiling) (4.9.0)\n",
            "Requirement already satisfied: charset-normalizer<4,>=2 in c:\\programdata\\anaconda3\\lib\\site-packages (from requests>=2.24.0->pandas_profiling) (2.0.4)\n",
            "Requirement already satisfied: idna<4,>=2.5 in c:\\programdata\\anaconda3\\lib\\site-packages (from requests>=2.24.0->pandas_profiling) (3.4)\n",
            "Requirement already satisfied: urllib3<3,>=1.21.1 in c:\\programdata\\anaconda3\\lib\\site-packages (from requests>=2.24.0->pandas_profiling) (2.0.7)\n",
            "Requirement already satisfied: certifi>=2017.4.17 in c:\\programdata\\anaconda3\\lib\\site-packages (from requests>=2.24.0->pandas_profiling) (2024.2.2)\n",
            "Requirement already satisfied: colorama in c:\\programdata\\anaconda3\\lib\\site-packages (from tqdm>=4.48.2->pandas_profiling) (0.4.6)\n",
            "Requirement already satisfied: six>=1.5 in c:\\programdata\\anaconda3\\lib\\site-packages (from python-dateutil>=2.7->matplotlib>=3.2.0->pandas_profiling) (1.16.0)\n",
            "Requirement already satisfied: PyWavelets in c:\\programdata\\anaconda3\\lib\\site-packages (from imagehash->visions[type_image_path]==0.7.4->pandas_profiling) (1.5.0)\n",
            "Note: you may need to restart the kernel to use updated packages.\n"
          ]
        }
      ],
      "source": [
        "pip install pandas_profiling"
      ]
    },
    {
      "cell_type": "code",
      "execution_count": 3,
      "metadata": {
        "id": "lg1UadzqiZSZ"
      },
      "outputs": [
        {
          "ename": "ModuleNotFoundError",
          "evalue": "No module named 'keras'",
          "output_type": "error",
          "traceback": [
            "\u001b[1;31m---------------------------------------------------------------------------\u001b[0m",
            "\u001b[1;31mModuleNotFoundError\u001b[0m                       Traceback (most recent call last)",
            "Cell \u001b[1;32mIn[3], line 6\u001b[0m\n\u001b[0;32m      3\u001b[0m \u001b[38;5;28;01mimport\u001b[39;00m \u001b[38;5;21;01mmatplotlib\u001b[39;00m\u001b[38;5;21;01m.\u001b[39;00m\u001b[38;5;21;01mpyplot\u001b[39;00m \u001b[38;5;28;01mas\u001b[39;00m \u001b[38;5;21;01mplt\u001b[39;00m\n\u001b[0;32m      4\u001b[0m \u001b[38;5;66;03m#import pandas_profiling as pp\u001b[39;00m\n\u001b[0;32m      5\u001b[0m \u001b[38;5;66;03m#from pandas_profiling import ProfileReport\u001b[39;00m\n\u001b[1;32m----> 6\u001b[0m \u001b[38;5;28;01mimport\u001b[39;00m \u001b[38;5;21;01mkeras\u001b[39;00m \u001b[38;5;28;01mas\u001b[39;00m \u001b[38;5;21;01mk\u001b[39;00m\n\u001b[0;32m      7\u001b[0m \u001b[38;5;28;01mfrom\u001b[39;00m \u001b[38;5;21;01msklearn\u001b[39;00m\u001b[38;5;21;01m.\u001b[39;00m\u001b[38;5;21;01mmodel_selection\u001b[39;00m \u001b[38;5;28;01mimport\u001b[39;00m train_test_split\n\u001b[0;32m      8\u001b[0m \u001b[38;5;28;01mimport\u001b[39;00m \u001b[38;5;21;01mkeras\u001b[39;00m\n",
            "\u001b[1;31mModuleNotFoundError\u001b[0m: No module named 'keras'"
          ]
        }
      ],
      "source": [
        "import pandas as pd\n",
        "import numpy as np\n",
        "import matplotlib.pyplot as plt\n",
        "#import pandas_profiling as pp\n",
        "#from pandas_profiling import ProfileReport\n",
        "import keras as k\n",
        "from sklearn.model_selection import train_test_split\n",
        "import keras\n",
        "from keras import regularizers\n",
        "from keras.models import Sequential,model_from_json\n",
        "from keras.layers import Dense, Dropout, Activation\n",
        "from keras import optimizers\n",
        "from numpy.random import seed\n",
        "seed(1)"
      ]
    },
    {
      "cell_type": "markdown",
      "metadata": {
        "id": "MRueb84Ni3iG"
      },
      "source": [
        "# Read dataset"
      ]
    },
    {
      "cell_type": "code",
      "execution_count": null,
      "metadata": {
        "id": "CzOhZgV7iZSl"
      },
      "outputs": [],
      "source": [
        "df_users = pd.read_csv(\"realusers.csv\")\n",
        "df_fusers = pd.read_csv(\"fakeusers.csv\")"
      ]
    },
    {
      "cell_type": "code",
      "execution_count": null,
      "metadata": {
        "id": "tjsNUk9SiZSo"
      },
      "outputs": [],
      "source": [
        "df_fusers.shape"
      ]
    },
    {
      "cell_type": "code",
      "execution_count": null,
      "metadata": {
        "colab": {
          "base_uri": "https://localhost:8080/"
        },
        "id": "QmOFYuHLiZSs",
        "outputId": "8c9b3b0e-65c6-4a6a-9963-c171a55e3b85"
      },
      "outputs": [
        {
          "data": {
            "text/plain": [
              "(1481, 41)"
            ]
          },
          "execution_count": 12,
          "metadata": {},
          "output_type": "execute_result"
        }
      ],
      "source": [
        "df_users.shape"
      ]
    },
    {
      "cell_type": "markdown",
      "metadata": {
        "id": "Z-DaOA9IjCuG"
      },
      "source": [
        "# Add isFake Column"
      ]
    },
    {
      "cell_type": "code",
      "execution_count": null,
      "metadata": {
        "id": "EQ2S0VZiiZSw"
      },
      "outputs": [],
      "source": [
        "#for df_users\n",
        "isNotFake = np.zeros(3474)\n",
        "\n",
        "#for df_fusers\n",
        "isFake = np.ones(3351)"
      ]
    },
    {
      "cell_type": "code",
      "execution_count": null,
      "metadata": {
        "id": "qIwhfB31Ut6a"
      },
      "outputs": [],
      "source": [
        "# Check the length of df_fusers\n",
        "df_fusers_length = len(df_fusers)\n",
        "\n",
        "# Make sure isFake has the same length as df_fusers\n",
        "isFake = np.ones(df_fusers_length)\n",
        "\n",
        "# Assign isFake to df_fusers\n",
        "df_fusers[\"isFake\"] = isFake\n",
        "\n",
        "# Check the length of df_users and isNotFake to make sure they match\n",
        "df_users_length = len(df_users)\n",
        "isNotFake = np.zeros(df_users_length)\n",
        "\n",
        "# Assign isNotFake to df_users\n",
        "df_users[\"isFake\"] = isNotFake\n"
      ]
    },
    {
      "cell_type": "code",
      "execution_count": null,
      "metadata": {
        "id": "uahTyblYiZSz"
      },
      "outputs": [],
      "source": [
        "#for df_users\n",
        "isNotFake = np.zeros(3474)\n",
        "\n",
        "#for df_fusers\n",
        "isFake = np.ones(3351)"
      ]
    },
    {
      "cell_type": "markdown",
      "metadata": {
        "id": "UbSz4oTDjO1z"
      },
      "source": [
        "# Combine different datasets into one"
      ]
    },
    {
      "cell_type": "code",
      "execution_count": null,
      "metadata": {
        "colab": {
          "base_uri": "https://localhost:8080/",
          "height": 140
        },
        "id": "kRres6wpiZS3",
        "outputId": "cb7e8bc6-fb99-4f99-d6e4-e30844631ce1"
      },
      "outputs": [
        {
          "ename": "SyntaxError",
          "evalue": "ignored",
          "output_type": "error",
          "traceback": [
            "\u001b[0;36m  File \u001b[0;32m\"<ipython-input-16-b7556edccc21>\"\u001b[0;36m, line \u001b[0;32m2\u001b[0m\n\u001b[0;31m    df_allUsers.columns = df_allUsers.columns.str.strip()o\u001b[0m\n\u001b[0m                                                         ^\u001b[0m\n\u001b[0;31mSyntaxError\u001b[0m\u001b[0;31m:\u001b[0m invalid syntax\n"
          ]
        }
      ],
      "source": [
        "df_allUsers = pd.concat([df_fakeusers, df_realusers], ignore_index=True)\n",
        "df_allUsers.columns = df_allUsers.columns.str.strip()"
      ]
    },
    {
      "cell_type": "code",
      "execution_count": null,
      "metadata": {
        "colab": {
          "base_uri": "https://localhost:8080/",
          "height": 192
        },
        "id": "1ItvB4eHiZS9",
        "outputId": "0a6beee6-21e6-4763-e9b9-d8542a422edf"
      },
      "outputs": [
        {
          "ename": "NameError",
          "evalue": "ignored",
          "output_type": "error",
          "traceback": [
            "\u001b[0;31m---------------------------------------------------------------------------\u001b[0m",
            "\u001b[0;31mNameError\u001b[0m                                 Traceback (most recent call last)",
            "\u001b[0;32m<ipython-input-17-ed88ef0f4a36>\u001b[0m in \u001b[0;36m<cell line: 2>\u001b[0;34m()\u001b[0m\n\u001b[1;32m      1\u001b[0m \u001b[0;31m#to shuffle the whole data\u001b[0m\u001b[0;34m\u001b[0m\u001b[0;34m\u001b[0m\u001b[0m\n\u001b[0;32m----> 2\u001b[0;31m \u001b[0mdf_allUsers\u001b[0m \u001b[0;34m=\u001b[0m \u001b[0mdf_allUsers\u001b[0m\u001b[0;34m.\u001b[0m\u001b[0msample\u001b[0m\u001b[0;34m(\u001b[0m\u001b[0mfrac\u001b[0m\u001b[0;34m=\u001b[0m\u001b[0;36m1\u001b[0m\u001b[0;34m)\u001b[0m\u001b[0;34m.\u001b[0m\u001b[0mreset_index\u001b[0m\u001b[0;34m(\u001b[0m\u001b[0mdrop\u001b[0m\u001b[0;34m=\u001b[0m\u001b[0;32mTrue\u001b[0m\u001b[0;34m)\u001b[0m\u001b[0;34m\u001b[0m\u001b[0;34m\u001b[0m\u001b[0m\n\u001b[0m",
            "\u001b[0;31mNameError\u001b[0m: name 'df_allUsers' is not defined"
          ]
        }
      ],
      "source": [
        "#to shuffle the whole data\n",
        "df_allUsers = df_allUsers.sample(frac=1).reset_index(drop=True)"
      ]
    },
    {
      "cell_type": "code",
      "execution_count": null,
      "metadata": {
        "id": "vSSLWSP5iZTF",
        "scrolled": true
      },
      "outputs": [],
      "source": [
        "df_allUsers.describe()"
      ]
    },
    {
      "cell_type": "code",
      "execution_count": null,
      "metadata": {
        "id": "7ibhq76niZTI",
        "scrolled": false
      },
      "outputs": [],
      "source": [
        "df_allUsers.head()"
      ]
    },
    {
      "cell_type": "markdown",
      "metadata": {
        "id": "DO8UUZ0GjeWB"
      },
      "source": [
        "# Distribution of Data in X and Y"
      ]
    },
    {
      "cell_type": "code",
      "execution_count": null,
      "metadata": {
        "id": "AmGu4jaliZTL"
      },
      "outputs": [],
      "source": [
        "Y = df_allUsers.isFake"
      ]
    },
    {
      "cell_type": "code",
      "execution_count": null,
      "metadata": {
        "id": "aonG9-nsiZTP"
      },
      "outputs": [],
      "source": [
        "df_allUsers.drop([\"isFake\"], axis=1, inplace=True)\n",
        "X = df_allUsers"
      ]
    },
    {
      "cell_type": "code",
      "execution_count": null,
      "metadata": {
        "id": "t_eH7s1tiZTS"
      },
      "outputs": [],
      "source": [
        "profile = ProfileReport(X, title=\"Pandas Profiling Report\")\n",
        "profile"
      ]
    },
    {
      "cell_type": "code",
      "execution_count": null,
      "metadata": {
        "id": "-PCN0X6miZTY"
      },
      "outputs": [],
      "source": [
        "Y.reset_index(drop=True, inplace=True)"
      ]
    },
    {
      "cell_type": "code",
      "execution_count": null,
      "metadata": {
        "id": "h7neEtMEiZTb"
      },
      "outputs": [],
      "source": [
        "print(Y.shape)"
      ]
    },
    {
      "cell_type": "code",
      "execution_count": null,
      "metadata": {
        "id": "69nXdct-iZTe",
        "scrolled": true
      },
      "outputs": [],
      "source": [
        "X.head()"
      ]
    },
    {
      "cell_type": "code",
      "execution_count": null,
      "metadata": {
        "id": "2RWvHFWeiZTh"
      },
      "outputs": [],
      "source": [
        "lang_list = list(enumerate(np.unique(X[\"lang\"])))\n",
        "lang_dict = {name : i for i, name in lang_list}\n",
        "X.loc[:, \"lang_num\"] = X[\"lang\"].map(lambda x: lang_dict[x]).astype(int)\n",
        "\n",
        "X.drop([\"name\"], axis=1, inplace=True)"
      ]
    },
    {
      "cell_type": "markdown",
      "metadata": {
        "id": "uHRBBbjsks2D"
      },
      "source": [
        "# Feature Selection"
      ]
    },
    {
      "cell_type": "code",
      "execution_count": null,
      "metadata": {
        "id": "VjjmqsxjiZTl"
      },
      "outputs": [],
      "source": [
        "X = X[[\n",
        "    \"statuses_count\",\n",
        "    \"followers_count\",\n",
        "    \"friends_count\",\n",
        "    \"favourites_count\",\n",
        "    \"lang_num\",\n",
        "    \"listed_count\",\n",
        "    \"geo_enabled\",\n",
        "    \"profile_use_background_image\"\n",
        "                        ]]"
      ]
    },
    {
      "cell_type": "code",
      "execution_count": null,
      "metadata": {
        "id": "Stml6ICxiZTn"
      },
      "outputs": [],
      "source": [
        "profile = ProfileReport(X, title=\"Pandas Profiling Report\")\n",
        "profile"
      ]
    },
    {
      "cell_type": "code",
      "execution_count": null,
      "metadata": {
        "id": "QSuR8HE7iZTv"
      },
      "outputs": [],
      "source": [
        "X = X.replace(np.nan, 0) #To replace the missing boolean values with zeros as it means false"
      ]
    },
    {
      "cell_type": "code",
      "execution_count": null,
      "metadata": {
        "id": "mx31jMRpiZTy",
        "scrolled": false
      },
      "outputs": [],
      "source": [
        "profile = ProfileReport(X, title=\"Pandas Profiling Report\")\n",
        "profile"
      ]
    },
    {
      "cell_type": "markdown",
      "metadata": {
        "id": "2tQtG5gWk1zD"
      },
      "source": [
        "# Import Data"
      ]
    },
    {
      "cell_type": "code",
      "execution_count": null,
      "metadata": {
        "id": "KOMYCtqqiZT6"
      },
      "outputs": [],
      "source": [
        "train_X, test_X, train_y, test_y = train_test_split(X, Y, train_size=0.8, test_size=0.2, random_state=0)\n",
        "train_X, val_X, train_y, val_y = train_test_split(train_X, train_y, train_size=0.8, test_size=0.2, random_state=0)"
      ]
    },
    {
      "cell_type": "code",
      "execution_count": null,
      "metadata": {
        "id": "1Zi-0jSZiZT9"
      },
      "outputs": [],
      "source": [
        "print(train_X.shape)\n",
        "print(test_X.shape)\n",
        "print(train_y.shape)\n",
        "print(test_y.shape)"
      ]
    },
    {
      "cell_type": "markdown",
      "metadata": {
        "id": "cA_o_rxilbA9"
      },
      "source": [
        "# Design Model"
      ]
    },
    {
      "cell_type": "code",
      "execution_count": null,
      "metadata": {
        "id": "tvtAUHVziZUI",
        "scrolled": false
      },
      "outputs": [],
      "source": [
        "model = Sequential()\n",
        "model.add(Dense(32, activation='relu', input_dim=8))\n",
        "model.add(Dense(64, input_dim=32, activation='relu'))\n",
        "model.add(Dense(64, input_dim=64, activation='relu'))\n",
        "model.add(Dense(32,input_dim=64, activation='relu'))\n",
        "model.add(Dense(1, activation='sigmoid'))\n",
        "model.summary()"
      ]
    },
    {
      "cell_type": "markdown",
      "metadata": {
        "id": "ac-pNQ5gllxH"
      },
      "source": [
        "# Compile Model"
      ]
    },
    {
      "cell_type": "code",
      "execution_count": null,
      "metadata": {
        "id": "Uve3vfnlleux"
      },
      "outputs": [],
      "source": [
        "model.compile(optimizer='adam',\n",
        "              loss='binary_crossentropy',\n",
        "              metrics=['accuracy'])"
      ]
    },
    {
      "cell_type": "markdown",
      "metadata": {
        "id": "ttdB6EISl-aq"
      },
      "source": [
        "# Training"
      ]
    },
    {
      "cell_type": "code",
      "execution_count": null,
      "metadata": {
        "id": "wAx3VtQymAmu"
      },
      "outputs": [],
      "source": [
        "history = model.fit(train_X, train_y,\n",
        "                    epochs=25,\n",
        "                    verbose=1,\n",
        "                    validation_data=(val_X,val_y))"
      ]
    },
    {
      "cell_type": "markdown",
      "metadata": {
        "id": "DEzWxCjxmffb"
      },
      "source": [
        "# Testing"
      ]
    },
    {
      "cell_type": "code",
      "execution_count": null,
      "metadata": {
        "id": "PyMyo_fViZUL"
      },
      "outputs": [],
      "source": [
        "score = model.evaluate(test_X, test_y, verbose=0)\n",
        "print('Test loss:', score[0])\n",
        "print('Test accuracy:', score[1])"
      ]
    },
    {
      "cell_type": "markdown",
      "metadata": {
        "id": "sqaNszjhxugP"
      },
      "source": [
        "# Graphs"
      ]
    },
    {
      "cell_type": "code",
      "execution_count": null,
      "metadata": {
        "id": "qWNP5kGw8bih"
      },
      "outputs": [],
      "source": [
        "# Plot training and validation accuracy values\n",
        "plt.plot(history.history['accuracy'])\n",
        "plt.plot(history.history['val_accuracy'])\n",
        "plt.title('Model accuracy')\n",
        "plt.ylabel('Accuracy')\n",
        "plt.xlabel('Epoch')\n",
        "axes = plt.gca()\n",
        "axes.set_xlim([0,14])\n",
        "axes.set_ylim([0.85,1])\n",
        "axes.grid(True, which='both')\n",
        "axes.axhline(y=0.85, color='k')\n",
        "axes.axvline(x=0, color='k')\n",
        "axes.axvline(x=14, color='k')\n",
        "axes.axhline(y=1, color='k')\n",
        "plt.legend(['Train','Val'], loc='lower right')\n",
        "plt.show()"
      ]
    },
    {
      "cell_type": "code",
      "execution_count": null,
      "metadata": {
        "id": "kwhsBKif8ymU"
      },
      "outputs": [],
      "source": [
        "c# Plot training and validation loss values\n",
        "plt.plot(history.history['loss'])\n",
        "plt.plot(history.history['val_loss'])\n",
        "plt.title('Model loss')\n",
        "plt.ylabel('Loss')\n",
        "plt.xlabel('Epoch')\n",
        "axes = plt.gca()\n",
        "axes.set_xlim([0,14])\n",
        "axes.set_ylim([0,5])\n",
        "axes.grid(True, which='both')\n",
        "axes.axhline(y=0, color='k')\n",
        "axes.axvline(x=0, color='k')\n",
        "axes.axhline(y=5, color='k')\n",
        "axes.axvline(x=14, color='k')\n",
        "plt.legend(['Train','Val'], loc='upper right')\n",
        "plt.show()"
      ]
    },
    {
      "cell_type": "markdown",
      "metadata": {
        "id": "jJ5sE_eUrhGu"
      },
      "source": [
        "# Prediction"
      ]
    },
    {
      "cell_type": "code",
      "execution_count": null,
      "metadata": {
        "id": "Z4hjoY_piZUO"
      },
      "outputs": [],
      "source": [
        "# Write the index of the test sample to test\n",
        "prediction = model.predict(test_X[136:137])\n",
        "prediction = prediction[0]\n",
        "print('Prediction\\n',prediction)\n",
        "print('\\nThresholded output\\n',(prediction>0.5)*1)"
      ]
    },
    {
      "cell_type": "markdown",
      "metadata": {
        "id": "7PRM2oOAPw15"
      },
      "source": [
        "# Ground truth"
      ]
    },
    {
      "cell_type": "code",
      "execution_count": null,
      "metadata": {
        "id": "IkIKYb9hP2RO"
      },
      "outputs": [],
      "source": [
        "print(test_y[136:137])"
      ]
    },
    {
      "cell_type": "markdown",
      "metadata": {
        "id": "3l6Rzbcwt_Ii"
      },
      "source": [
        "# Part 2: Saving, Loading Model"
      ]
    },
    {
      "cell_type": "markdown",
      "metadata": {
        "id": "sPrsTVztudeB"
      },
      "source": [
        "\n",
        "\n",
        "\n",
        "\n",
        "\n",
        "\n",
        "\n",
        "\n",
        "\n",
        "\n",
        "\n",
        "\n",
        "\n",
        "\n",
        "\n",
        "\n",
        "\n",
        "\n",
        "\n",
        "\n",
        "\n",
        "\n",
        "\n",
        "\n",
        "\n",
        "\n",
        "\n",
        "\n",
        "\n",
        "\n",
        "\n",
        "# Saving"
      ]
    },
    {
      "cell_type": "code",
      "execution_count": null,
      "metadata": {
        "id": "73UTo_ytuIQM"
      },
      "outputs": [],
      "source": [
        "\n",
        "\n",
        "-# serialize model to JSON\n",
        "#model_json = model.to_json()\n",
        "\n",
        "# Write the file name of the model\n",
        "\n",
        "#with open(\"model.json\", \"w\") as json_file:\n",
        "#    json_file.write(model_json)\n",
        "\n",
        "# serialize weights to HDF5\n",
        "# Write the file name of the weights\n",
        "\n",
        "#model.save_weights(\"model.h5\")\n",
        "#print(\"Saved model to disk\")"
      ]
    },
    {
      "cell_type": "markdown",
      "metadata": {
        "id": "4k0_7_t2u38e"
      },
      "source": [
        "# Loading"
      ]
    },
    {
      "cell_type": "code",
      "execution_count": null,
      "metadata": {
        "id": "8dw-Ij6su60I"
      },
      "outputs": [],
      "source": [
        "# load json and create model\n",
        "\n",
        "# Write the file name of the model\n",
        "\n",
        "#json_file = open('model.json', 'r')\n",
        "#loaded_model_json = json_file.read()\n",
        "#json_file.close()\n",
        "#loaded_model = model_from_json(loaded_model_json)\n",
        "\n",
        "# load weights into new model\n",
        "# Write the file name of the weights\n",
        "\n",
        "#loaded_model.load_weights(\"model.h5\")\n",
        "#print(\"Loaded model from disk\")"
      ]
    },
    {
      "cell_type": "code",
      "execution_count": null,
      "metadata": {
        "id": "Nbv6whP6U7cd"
      },
      "outputs": [],
      "source": [
        "from sklearn.metrics import accuracy_score, precision_score, recall_score, f1_score, roc_curve, roc_auc_score\n",
        "import matplotlib.pyplot as plt\n",
        "\n",
        "# ... (Your existing code)\n",
        "\n",
        "# Train the model and save training history\n",
        "history = model.fit(train_X, train_y, epochs=25, verbose=1, validation_data=(val_X, val_y))\n",
        "\n",
        "# Evaluate the model on the test set\n",
        "y_pred = (model.predict(test_X) > 0.5).astype(int)\n",
        "\n",
        "# Calculate metrics\n",
        "accuracy = accuracy_score(test_y, y_pred)\n",
        "precision = precision_score(test_y, y_pred)\n",
        "recall = recall_score(test_y, y_pred)\n",
        "f1 = f1_score(test_y, y_pred)\n",
        "\n",
        "# Calculate ROC curve and AUC\n",
        "y_probs = model.predict(test_X)\n",
        "fpr, tpr, thresholds = roc_curve(test_y, y_probs)\n",
        "roc_auc = roc_auc_score(test_y, y_probs)\n",
        "\n",
        "# Plot training and validation accuracy values\n",
        "plt.plot(history.history['accuracy'])\n",
        "plt.plot(history.history['val_accuracy'])\n",
        "plt.title('Model Accuracy Over Epochs')\n",
        "plt.ylabel('Accuracy')\n",
        "plt.xlabel('Epoch')\n",
        "plt.legend(['Train', 'Validation'], loc='lower right')\n",
        "plt.show()\n",
        "\n",
        "# Plot training and validation loss values\n",
        "plt.plot(history.history['loss'])\n",
        "plt.plot(history.history['val_loss'])\n",
        "plt.title('Model Loss Over Epochs')\n",
        "plt.ylabel('Loss')\n",
        "plt.xlabel('Epoch')\n",
        "plt.legend(['Train', 'Validation'], loc='upper right')\n",
        "plt.show()\n",
        "\n",
        "# Plot ROC curve\n",
        "plt.figure(figsize=(8, 6))\n",
        "plt.plot(fpr, tpr, color='darkorange', lw=2, label=f'ROC curve (AUC = {roc_auc:.2f})')\n",
        "plt.plot([0, 1], [0, 1], color='navy', lw=2, linestyle='--')\n",
        "plt.xlim([0.0, 1.0])\n",
        "plt.ylim([0.0, 1.05])\n",
        "plt.xlabel('False Positive Rate')\n",
        "plt.ylabel('True Positive Rate')\n",
        "plt.title('Receiver Operating Characteristic (ROC) Curve')\n",
        "plt.legend(loc='lower right')\n",
        "plt.show()\n",
        "\n",
        "# Print metrics\n",
        "print(f\"Accuracy: {accuracy * 100:.2f}%\")\n",
        "print(f\"Precision: {precision * 100:.2f}%\")\n",
        "print(f\"Recall: {recall * 100:.2f}%\")\n",
        "print(f\"F1-Score: {f1 * 100:.2f}%\")\n"
      ]
    }
  ],
  "metadata": {
    "accelerator": "GPU",
    "colab": {
      "collapsed_sections": [
        "3l6Rzbcwt_Ii"
      ],
      "gpuType": "T4",
      "provenance": []
    },
    "kernelspec": {
      "display_name": "Python 3",
      "name": "python3"
    },
    "language_info": {
      "codemirror_mode": {
        "name": "ipython",
        "version": 3
      },
      "file_extension": ".py",
      "mimetype": "text/x-python",
      "name": "python",
      "nbconvert_exporter": "python",
      "pygments_lexer": "ipython3",
      "version": "3.11.7"
    }
  },
  "nbformat": 4,
  "nbformat_minor": 0
}
